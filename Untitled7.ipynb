{
 "cells": [
  {
   "cell_type": "markdown",
   "metadata": {},
   "source": [
    "# GIMME THAT SWEET BEAN JUICE"
   ]
  },
  {
   "cell_type": "markdown",
   "metadata": {},
   "source": [
    "I can't do without it. I wake up in the morning and my eyes are blood shot... I need it, I can't function without it. Give me that sweet bean juice!!! I recently decided that I am moving to vancouver because 1. It is the most beautiful city I have been to and 2. It is the most beautiful city that I have been to. However, when I move there, there is one simple must that I cannot do without. BEAN JUICE. I need it.... I have headaches without it. I like it with steamed milk. I like a good single origin gesha pour over. GIVE ME THAT BEAN JUICE!!! I am looking for the perfect neighborhood in Vancouver where I can rely on a short walk to get my coffee every morning. So I am doing this exercise to find the neighborhood cluster that has the best access to coffee possible. Additionally, I love bread, sweets, and good food of the Japanese variety. I am hoping to find a neighborhood that first and foremost gives me access to an ample supply of my BEAN JUICE and good japanese food or desserts."
   ]
  },
  {
   "cell_type": "markdown",
   "metadata": {},
   "source": [
    "## The data"
   ]
  },
  {
   "cell_type": "markdown",
   "metadata": {},
   "source": [
    "I will be taking the data that defines the neighborhoods within Vancouver and their latitude and longitude coordinates. Once I obtain this data I will characterize the neighborhoods by their nearby venues in hopes that I can find a neighborhood that meets the criteria as I have defined above."
   ]
  }
 ],
 "metadata": {
  "kernelspec": {
   "display_name": "Python 3",
   "language": "python",
   "name": "python3"
  },
  "language_info": {
   "codemirror_mode": {
    "name": "ipython",
    "version": 3
   },
   "file_extension": ".py",
   "mimetype": "text/x-python",
   "name": "python",
   "nbconvert_exporter": "python",
   "pygments_lexer": "ipython3",
   "version": "3.7.4"
  }
 },
 "nbformat": 4,
 "nbformat_minor": 2
}
